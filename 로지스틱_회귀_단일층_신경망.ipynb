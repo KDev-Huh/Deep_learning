{
  "nbformat": 4,
  "nbformat_minor": 0,
  "metadata": {
    "colab": {
      "provenance": [],
      "authorship_tag": "ABX9TyO0L2mMRafSehvebsvKYRV+",
      "include_colab_link": true
    },
    "kernelspec": {
      "name": "python3",
      "display_name": "Python 3"
    },
    "language_info": {
      "name": "python"
    }
  },
  "cells": [
    {
      "cell_type": "markdown",
      "metadata": {
        "id": "view-in-github",
        "colab_type": "text"
      },
      "source": [
        "<a href=\"https://colab.research.google.com/github/KDev-Huh/Deep_learning/blob/main/%EB%A1%9C%EC%A7%80%EC%8A%A4%ED%8B%B1_%ED%9A%8C%EA%B7%80_%EB%8B%A8%EC%9D%BC%EC%B8%B5_%EC%8B%A0%EA%B2%BD%EB%A7%9D.ipynb\" target=\"_parent\"><img src=\"https://colab.research.google.com/assets/colab-badge.svg\" alt=\"Open In Colab\"/></a>"
      ]
    },
    {
      "cell_type": "code",
      "execution_count": null,
      "metadata": {
        "id": "IbM_3w2YA6gG"
      },
      "outputs": [],
      "source": [
        "# 사이킷런 datasets에서 load_breast_cancer 함수로 Bunch 클래스의 객체 가져오기\n",
        "from sklearn.datasets import load_breast_cancer\n",
        "cancer = load_breast_cancer()"
      ]
    },
    {
      "cell_type": "code",
      "source": [
        "# 입력데이터 확인\n",
        "print(cancer.data.shape, cancer.target.shape)\n",
        "cancer.data[:3]"
      ],
      "metadata": {
        "colab": {
          "base_uri": "https://localhost:8080/"
        },
        "id": "n8idsJ0nCKSa",
        "outputId": "91bc58c2-1ff1-4167-d0ab-a8f088090167"
      },
      "execution_count": null,
      "outputs": [
        {
          "output_type": "stream",
          "name": "stdout",
          "text": [
            "(569, 30) (569,)\n"
          ]
        },
        {
          "output_type": "execute_result",
          "data": {
            "text/plain": [
              "array([[1.799e+01, 1.038e+01, 1.228e+02, 1.001e+03, 1.184e-01, 2.776e-01,\n",
              "        3.001e-01, 1.471e-01, 2.419e-01, 7.871e-02, 1.095e+00, 9.053e-01,\n",
              "        8.589e+00, 1.534e+02, 6.399e-03, 4.904e-02, 5.373e-02, 1.587e-02,\n",
              "        3.003e-02, 6.193e-03, 2.538e+01, 1.733e+01, 1.846e+02, 2.019e+03,\n",
              "        1.622e-01, 6.656e-01, 7.119e-01, 2.654e-01, 4.601e-01, 1.189e-01],\n",
              "       [2.057e+01, 1.777e+01, 1.329e+02, 1.326e+03, 8.474e-02, 7.864e-02,\n",
              "        8.690e-02, 7.017e-02, 1.812e-01, 5.667e-02, 5.435e-01, 7.339e-01,\n",
              "        3.398e+00, 7.408e+01, 5.225e-03, 1.308e-02, 1.860e-02, 1.340e-02,\n",
              "        1.389e-02, 3.532e-03, 2.499e+01, 2.341e+01, 1.588e+02, 1.956e+03,\n",
              "        1.238e-01, 1.866e-01, 2.416e-01, 1.860e-01, 2.750e-01, 8.902e-02],\n",
              "       [1.969e+01, 2.125e+01, 1.300e+02, 1.203e+03, 1.096e-01, 1.599e-01,\n",
              "        1.974e-01, 1.279e-01, 2.069e-01, 5.999e-02, 7.456e-01, 7.869e-01,\n",
              "        4.585e+00, 9.403e+01, 6.150e-03, 4.006e-02, 3.832e-02, 2.058e-02,\n",
              "        2.250e-02, 4.571e-03, 2.357e+01, 2.553e+01, 1.525e+02, 1.709e+03,\n",
              "        1.444e-01, 4.245e-01, 4.504e-01, 2.430e-01, 3.613e-01, 8.758e-02]])"
            ]
          },
          "metadata": {},
          "execution_count": 3
        }
      ]
    },
    {
      "cell_type": "code",
      "source": [
        "import matplotlib.pyplot as plt\n",
        "import numpy as np"
      ],
      "metadata": {
        "id": "PyEYMCcFCrkF"
      },
      "execution_count": null,
      "outputs": []
    },
    {
      "cell_type": "code",
      "source": [
        "# 박스 플롯으로 특성의 사분위 그리기\n",
        "plt.boxplot(cancer.data)\n",
        "plt.xlabel('feature')\n",
        "plt.ylabel('value')\n",
        "plt.show()"
      ],
      "metadata": {
        "colab": {
          "base_uri": "https://localhost:8080/",
          "height": 449
        },
        "id": "c03CuF77DtGb",
        "outputId": "f75f2ba8-5c84-41ca-da37-dcfb28d4a0fe"
      },
      "execution_count": null,
      "outputs": [
        {
          "output_type": "display_data",
          "data": {
            "text/plain": [
              "<Figure size 640x480 with 1 Axes>"
            ],
            "image/png": "[encoded data removed]"
          },
          "metadata": {}
        }
      ]
    },
    {
      "cell_type": "code",
      "source": [
        "# 눈에 띄는 특성 살펴보기\n",
        "cancer.feature_names[[3, 13, 23]]"
      ],
      "metadata": {
        "colab": {
          "base_uri": "https://localhost:8080/"
        },
        "id": "pxRHkmRAEiJN",
        "outputId": "66fe931f-44c0-4a16-f614-bbd7b010d162"
      },
      "execution_count": null,
      "outputs": [
        {
          "output_type": "execute_result",
          "data": {
            "text/plain": [
              "array(['mean area', 'area error', 'worst area'], dtype='<U23')"
            ]
          },
          "metadata": {},
          "execution_count": 6
        }
      ]
    },
    {
      "cell_type": "code",
      "source": [
        "# 타깃 데이터 확인\n",
        "np.unique(cancer.target, return_counts = True)"
      ],
      "metadata": {
        "colab": {
          "base_uri": "https://localhost:8080/"
        },
        "id": "0Dfdb-F-Ekh_",
        "outputId": "df86e629-edac-4150-c903-054dd4572070"
      },
      "execution_count": null,
      "outputs": [
        {
          "output_type": "execute_result",
          "data": {
            "text/plain": [
              "(array([0, 1]), array([212, 357]))"
            ]
          },
          "metadata": {},
          "execution_count": 7
        }
      ]
    },
    {
      "cell_type": "code",
      "source": [
        "x = cancer.data\n",
        "y = cancer.target"
      ],
      "metadata": {
        "id": "Mrrj_XumFwJb"
      },
      "execution_count": null,
      "outputs": []
    },
    {
      "cell_type": "code",
      "source": [
        "# 훈련데이터 세트 훈련세트와 테스트세트로 나누기\n",
        "from sklearn.model_selection import train_test_split\n",
        "x_train, x_test,y_train, y_test = train_test_split(x, y, stratify=y, test_size = 0.2, random_state=42)\n",
        "print(x_train.shape, x_test.shape)"
      ],
      "metadata": {
        "colab": {
          "base_uri": "https://localhost:8080/"
        },
        "id": "w7CP61UtF4Lb",
        "outputId": "7615be71-9c92-4244-adf1-0d89b79e67c0"
      },
      "execution_count": null,
      "outputs": [
        {
          "output_type": "stream",
          "name": "stdout",
          "text": [
            "(455, 30) (114, 30)\n"
          ]
        }
      ]
    },
    {
      "cell_type": "code",
      "source": [
        "class SingleLayer:\n",
        "  def __init__(self):\n",
        "    self.w = None\n",
        "    self.b = None\n",
        "    self.losses=[]\n",
        "\n",
        "  def forpass(self, x):\n",
        "    z = np.sum(x * self.w) + self.b   # 정방향 계산\n",
        "    return  z\n",
        "\n",
        "  def backprop(self, x, err):\n",
        "    w_grad = x * err    # 가중치 업데이트\n",
        "    b_grad = 1 * err    # 절편 업데이트\n",
        "    return w_grad, b_grad\n",
        "\n",
        "  def fit(self, x, y, epochs = 100):\n",
        "    self.w = np.ones(x.shape[1])    # 가중치 초기화\n",
        "    self.b = 0      # 절편 초기화\n",
        "    for i in range(epochs):\n",
        "      loss = 0\n",
        "      indexes = np.random.permutation(np.arange(len(x)))   # 인덱스 섞기\n",
        "      for i in indexes:           # 모든 샘플에 대해 반복\n",
        "        z = self.forpass(x[i])    # 정방향 계산\n",
        "        a = self.activation(z)    # 활성화 함수 적용\n",
        "        err = -(y[i] - a)\n",
        "        w_grad, b_grad = self.backprop(x[i], err) # 역방향 계산\n",
        "        self.w -= w_grad\n",
        "        self.b -= b_grad\n",
        "        a = np.clip(a, 1e-10, 1-1e-10)\n",
        "\n",
        "        loss += -(y[i] * np.log(a) + (1-y[i]) * np.log(1-a))\n",
        "      self.losses.append(loss/len(y))\n",
        "\n",
        "  def activation(self, z):\n",
        "    z = np.clip(z, -100, None)  # 안전한 np.exp() 계산을 위해\n",
        "    a = 1 / (1 + np.exp(-z))    # 시그모이드 계산\n",
        "    return a\n",
        "\n",
        "  def predict(self, x):\n",
        "    z = [self.forpass(x_i) for x_i in x]  # 선형 함수 적용\n",
        "    return np.array(z) > 0        # z가 0보다 크면 시그모이드 함수의 출력값은 0.5보다 크고 z가 0 보다 작으면 시그모이드 함수 출력값도 0.5보다 작다.\n",
        "\n",
        "  def score(self, x, y):\n",
        "    return np.mean(self.predict(x) == y)"
      ],
      "metadata": {
        "id": "1I9lXtfHYACV"
      },
      "execution_count": null,
      "outputs": []
    },
    {
      "cell_type": "code",
      "source": [
        "layer = SingleLayer()\n",
        "layer.fit(x_train, y_train)\n",
        "layer.score(x_test, y_test)"
      ],
      "metadata": {
        "colab": {
          "base_uri": "https://localhost:8080/"
        },
        "id": "LpsJAOP9x2PP",
        "outputId": "7cd4e9ac-937b-4d60-8313-a4e8c78275e8"
      },
      "execution_count": null,
      "outputs": [
        {
          "output_type": "execute_result",
          "data": {
            "text/plain": [
              "0.8859649122807017"
            ]
          },
          "metadata": {},
          "execution_count": 11
        }
      ]
    },
    {
      "cell_type": "markdown",
      "source": [
        "<h1>이 코드에서는 높은 정확도를 가지는 이유는 훈련 샘플을 epoch마다 무작위로 섞었기 때문이다.</h1>\n",
        "<p>layer객체의 losses 속성에 손실함수의 결과값을 출력하여 확인 해보기</p>"
      ],
      "metadata": {
        "id": "Z2EiozmSfmWq"
      }
    },
    {
      "cell_type": "code",
      "source": [
        "plt.plot(layer.losses)\n",
        "plt.xlabel('epoch')\n",
        "plt.ylabel('loss')\n",
        "plt.show()"
      ],
      "metadata": {
        "colab": {
          "base_uri": "https://localhost:8080/",
          "height": 449
        },
        "id": "yPiARrchesfk",
        "outputId": "23f0b0e4-cb5f-49ff-c17a-8fc29bb2c4aa"
      },
      "execution_count": null,
      "outputs": [
        {
          "output_type": "display_data",
          "data": {
            "text/plain": [
              "<Figure size 640x480 with 1 Axes>"
            ],
            "image/png": "[encoded data removed]"
          },
          "metadata": {}
        }
      ]
    },
    {
      "cell_type": "markdown",
      "source": [
        "<h1>사이킷런으로 로지스틱 회귀를 수행하기</h1>\n",
        "<h3>지금까지 우리는 직접 선형회귀, 로지스틱 회귀 등 신경망 알고리즘들을 직접 구현해보았다. 이번에는 사이킷런에 있는 SGDClassifier 클래스를 사용하여 로지스틱 회귀를 수행해보자</h3>"
      ],
      "metadata": {
        "id": "CLP-l1GBgm9V"
      }
    },
    {
      "cell_type": "code",
      "source": [
        "from sklearn.linear_model import SGDClassifier\n",
        "sgd = SGDClassifier(loss='log_loss', max_iter=100, tol=1e-3, random_state=42)"
      ],
      "metadata": {
        "id": "vFNW9L9AhGBQ"
      },
      "execution_count": null,
      "outputs": []
    },
    {
      "cell_type": "code",
      "source": [
        "sgd.fit(x_train, y_train)\n",
        "sgd.score(x_test, y_test)"
      ],
      "metadata": {
        "colab": {
          "base_uri": "https://localhost:8080/"
        },
        "id": "xtuvEeO-jN4_",
        "outputId": "f1e052dd-2a28-41e8-93b5-fe308091a467"
      },
      "execution_count": null,
      "outputs": [
        {
          "output_type": "execute_result",
          "data": {
            "text/plain": [
              "0.8333333333333334"
            ]
          },
          "metadata": {},
          "execution_count": 22
        }
      ]
    },
    {
      "cell_type": "code",
      "source": [
        "result = sgd.predict(x_test[0:10])\n",
        "total = 0\n",
        "for y_i, result_i in zip(y_test[0:10], result):\n",
        "  print(f'실제 y값 : {y_i} sgd의 예측값 : {result_i}')\n",
        "  if y_i == result_i:\n",
        "    total+=1\n",
        "print(f'정확도 : {total/len(result)*100}%')"
      ],
      "metadata": {
        "colab": {
          "base_uri": "https://localhost:8080/"
        },
        "id": "AtUEhnjpkYCm",
        "outputId": "f0b96feb-0f23-4c47-8c74-761a90fafd8e"
      },
      "execution_count": null,
      "outputs": [
        {
          "output_type": "stream",
          "name": "stdout",
          "text": [
            "실제 y값 : 0 sgd의 예측값 : 0\n",
            "실제 y값 : 1 sgd의 예측값 : 1\n",
            "실제 y값 : 0 sgd의 예측값 : 0\n",
            "실제 y값 : 1 sgd의 예측값 : 0\n",
            "실제 y값 : 0 sgd의 예측값 : 0\n",
            "실제 y값 : 1 sgd의 예측값 : 0\n",
            "실제 y값 : 1 sgd의 예측값 : 1\n",
            "실제 y값 : 0 sgd의 예측값 : 0\n",
            "실제 y값 : 0 sgd의 예측값 : 0\n",
            "실제 y값 : 0 sgd의 예측값 : 0\n",
            "정확도 : 80.0%\n"
          ]
        }
      ]
    }
  ]
}